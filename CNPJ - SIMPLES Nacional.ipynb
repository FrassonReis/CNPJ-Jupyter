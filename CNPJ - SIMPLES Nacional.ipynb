{
 "cells": [
  {
   "cell_type": "markdown",
   "id": "e8a111a5",
   "metadata": {},
   "source": [
    "# <div align=\"center\">*CNPJ*</div>"
   ]
  },
  {
   "cell_type": "markdown",
   "id": "1074d95d",
   "metadata": {},
   "source": [
    "## Empresa"
   ]
  },
  {
   "cell_type": "code",
   "execution_count": 1,
   "id": "c3b5fb79",
   "metadata": {},
   "outputs": [],
   "source": [
    "import zipfile\n",
    "import pandas as pd"
   ]
  },
  {
   "cell_type": "code",
   "execution_count": 2,
   "id": "d01d84ac",
   "metadata": {},
   "outputs": [
    {
     "ename": "FileNotFoundError",
     "evalue": "[Errno 2] No such file or directory: 'D:/CNPJ/Dados Abertos/EMPRESA/Zip/K3241.K03200Y0.D10710.EMPRECSV.zip'",
     "output_type": "error",
     "traceback": [
      "\u001b[1;31m---------------------------------------------------------------------------\u001b[0m",
      "\u001b[1;31mFileNotFoundError\u001b[0m                         Traceback (most recent call last)",
      "\u001b[1;32m<ipython-input-2-ce7fd7fe31e2>\u001b[0m in \u001b[0;36m<module>\u001b[1;34m\u001b[0m\n\u001b[0;32m      1\u001b[0m \u001b[0mfonte\u001b[0m \u001b[1;33m=\u001b[0m \u001b[1;34m'D:/CNPJ/Dados Abertos/EMPRESA/Zip/K3241.K03200Y0.D10710.EMPRECSV.zip'\u001b[0m\u001b[1;33m\u001b[0m\u001b[1;33m\u001b[0m\u001b[0m\n\u001b[1;32m----> 2\u001b[1;33m dados = pd.read_csv(fonte, sep=';', encoding='Windows-1252', names=['CNPJ BÁSICO', 'RAZÃO SOCIAL/NOME EMPRESARIAL',\n\u001b[0m\u001b[0;32m      3\u001b[0m                                                                     \u001b[1;34m'NATUREZA JURÍDICA'\u001b[0m\u001b[1;33m,\u001b[0m \u001b[1;34m'QUALIFICAÇÃO DO RESPONSÁVEL'\u001b[0m\u001b[1;33m,\u001b[0m\u001b[1;33m\u001b[0m\u001b[1;33m\u001b[0m\u001b[0m\n\u001b[0;32m      4\u001b[0m                                                                    \u001b[1;34m'CAPITAL SOCIAL DA EMPRESA'\u001b[0m\u001b[1;33m,\u001b[0m \u001b[1;34m'PORTE DA EMPRESA'\u001b[0m\u001b[1;33m,\u001b[0m\u001b[1;33m\u001b[0m\u001b[1;33m\u001b[0m\u001b[0m\n\u001b[0;32m      5\u001b[0m                                                                    'ENTE FEDERATIVO RESPONSÁVEL'])\n",
      "\u001b[1;32m~\\anaconda3\\lib\\site-packages\\pandas\\io\\parsers.py\u001b[0m in \u001b[0;36mread_csv\u001b[1;34m(filepath_or_buffer, sep, delimiter, header, names, index_col, usecols, squeeze, prefix, mangle_dupe_cols, dtype, engine, converters, true_values, false_values, skipinitialspace, skiprows, skipfooter, nrows, na_values, keep_default_na, na_filter, verbose, skip_blank_lines, parse_dates, infer_datetime_format, keep_date_col, date_parser, dayfirst, cache_dates, iterator, chunksize, compression, thousands, decimal, lineterminator, quotechar, quoting, doublequote, escapechar, comment, encoding, dialect, error_bad_lines, warn_bad_lines, delim_whitespace, low_memory, memory_map, float_precision, storage_options)\u001b[0m\n\u001b[0;32m    608\u001b[0m     \u001b[0mkwds\u001b[0m\u001b[1;33m.\u001b[0m\u001b[0mupdate\u001b[0m\u001b[1;33m(\u001b[0m\u001b[0mkwds_defaults\u001b[0m\u001b[1;33m)\u001b[0m\u001b[1;33m\u001b[0m\u001b[1;33m\u001b[0m\u001b[0m\n\u001b[0;32m    609\u001b[0m \u001b[1;33m\u001b[0m\u001b[0m\n\u001b[1;32m--> 610\u001b[1;33m     \u001b[1;32mreturn\u001b[0m \u001b[0m_read\u001b[0m\u001b[1;33m(\u001b[0m\u001b[0mfilepath_or_buffer\u001b[0m\u001b[1;33m,\u001b[0m \u001b[0mkwds\u001b[0m\u001b[1;33m)\u001b[0m\u001b[1;33m\u001b[0m\u001b[1;33m\u001b[0m\u001b[0m\n\u001b[0m\u001b[0;32m    611\u001b[0m \u001b[1;33m\u001b[0m\u001b[0m\n\u001b[0;32m    612\u001b[0m \u001b[1;33m\u001b[0m\u001b[0m\n",
      "\u001b[1;32m~\\anaconda3\\lib\\site-packages\\pandas\\io\\parsers.py\u001b[0m in \u001b[0;36m_read\u001b[1;34m(filepath_or_buffer, kwds)\u001b[0m\n\u001b[0;32m    460\u001b[0m \u001b[1;33m\u001b[0m\u001b[0m\n\u001b[0;32m    461\u001b[0m     \u001b[1;31m# Create the parser.\u001b[0m\u001b[1;33m\u001b[0m\u001b[1;33m\u001b[0m\u001b[1;33m\u001b[0m\u001b[0m\n\u001b[1;32m--> 462\u001b[1;33m     \u001b[0mparser\u001b[0m \u001b[1;33m=\u001b[0m \u001b[0mTextFileReader\u001b[0m\u001b[1;33m(\u001b[0m\u001b[0mfilepath_or_buffer\u001b[0m\u001b[1;33m,\u001b[0m \u001b[1;33m**\u001b[0m\u001b[0mkwds\u001b[0m\u001b[1;33m)\u001b[0m\u001b[1;33m\u001b[0m\u001b[1;33m\u001b[0m\u001b[0m\n\u001b[0m\u001b[0;32m    463\u001b[0m \u001b[1;33m\u001b[0m\u001b[0m\n\u001b[0;32m    464\u001b[0m     \u001b[1;32mif\u001b[0m \u001b[0mchunksize\u001b[0m \u001b[1;32mor\u001b[0m \u001b[0miterator\u001b[0m\u001b[1;33m:\u001b[0m\u001b[1;33m\u001b[0m\u001b[1;33m\u001b[0m\u001b[0m\n",
      "\u001b[1;32m~\\anaconda3\\lib\\site-packages\\pandas\\io\\parsers.py\u001b[0m in \u001b[0;36m__init__\u001b[1;34m(self, f, engine, **kwds)\u001b[0m\n\u001b[0;32m    817\u001b[0m             \u001b[0mself\u001b[0m\u001b[1;33m.\u001b[0m\u001b[0moptions\u001b[0m\u001b[1;33m[\u001b[0m\u001b[1;34m\"has_index_names\"\u001b[0m\u001b[1;33m]\u001b[0m \u001b[1;33m=\u001b[0m \u001b[0mkwds\u001b[0m\u001b[1;33m[\u001b[0m\u001b[1;34m\"has_index_names\"\u001b[0m\u001b[1;33m]\u001b[0m\u001b[1;33m\u001b[0m\u001b[1;33m\u001b[0m\u001b[0m\n\u001b[0;32m    818\u001b[0m \u001b[1;33m\u001b[0m\u001b[0m\n\u001b[1;32m--> 819\u001b[1;33m         \u001b[0mself\u001b[0m\u001b[1;33m.\u001b[0m\u001b[0m_engine\u001b[0m \u001b[1;33m=\u001b[0m \u001b[0mself\u001b[0m\u001b[1;33m.\u001b[0m\u001b[0m_make_engine\u001b[0m\u001b[1;33m(\u001b[0m\u001b[0mself\u001b[0m\u001b[1;33m.\u001b[0m\u001b[0mengine\u001b[0m\u001b[1;33m)\u001b[0m\u001b[1;33m\u001b[0m\u001b[1;33m\u001b[0m\u001b[0m\n\u001b[0m\u001b[0;32m    820\u001b[0m \u001b[1;33m\u001b[0m\u001b[0m\n\u001b[0;32m    821\u001b[0m     \u001b[1;32mdef\u001b[0m \u001b[0mclose\u001b[0m\u001b[1;33m(\u001b[0m\u001b[0mself\u001b[0m\u001b[1;33m)\u001b[0m\u001b[1;33m:\u001b[0m\u001b[1;33m\u001b[0m\u001b[1;33m\u001b[0m\u001b[0m\n",
      "\u001b[1;32m~\\anaconda3\\lib\\site-packages\\pandas\\io\\parsers.py\u001b[0m in \u001b[0;36m_make_engine\u001b[1;34m(self, engine)\u001b[0m\n\u001b[0;32m   1048\u001b[0m             )\n\u001b[0;32m   1049\u001b[0m         \u001b[1;31m# error: Too many arguments for \"ParserBase\"\u001b[0m\u001b[1;33m\u001b[0m\u001b[1;33m\u001b[0m\u001b[1;33m\u001b[0m\u001b[0m\n\u001b[1;32m-> 1050\u001b[1;33m         \u001b[1;32mreturn\u001b[0m \u001b[0mmapping\u001b[0m\u001b[1;33m[\u001b[0m\u001b[0mengine\u001b[0m\u001b[1;33m]\u001b[0m\u001b[1;33m(\u001b[0m\u001b[0mself\u001b[0m\u001b[1;33m.\u001b[0m\u001b[0mf\u001b[0m\u001b[1;33m,\u001b[0m \u001b[1;33m**\u001b[0m\u001b[0mself\u001b[0m\u001b[1;33m.\u001b[0m\u001b[0moptions\u001b[0m\u001b[1;33m)\u001b[0m  \u001b[1;31m# type: ignore[call-arg]\u001b[0m\u001b[1;33m\u001b[0m\u001b[1;33m\u001b[0m\u001b[0m\n\u001b[0m\u001b[0;32m   1051\u001b[0m \u001b[1;33m\u001b[0m\u001b[0m\n\u001b[0;32m   1052\u001b[0m     \u001b[1;32mdef\u001b[0m \u001b[0m_failover_to_python\u001b[0m\u001b[1;33m(\u001b[0m\u001b[0mself\u001b[0m\u001b[1;33m)\u001b[0m\u001b[1;33m:\u001b[0m\u001b[1;33m\u001b[0m\u001b[1;33m\u001b[0m\u001b[0m\n",
      "\u001b[1;32m~\\anaconda3\\lib\\site-packages\\pandas\\io\\parsers.py\u001b[0m in \u001b[0;36m__init__\u001b[1;34m(self, src, **kwds)\u001b[0m\n\u001b[0;32m   1865\u001b[0m \u001b[1;33m\u001b[0m\u001b[0m\n\u001b[0;32m   1866\u001b[0m         \u001b[1;31m# open handles\u001b[0m\u001b[1;33m\u001b[0m\u001b[1;33m\u001b[0m\u001b[1;33m\u001b[0m\u001b[0m\n\u001b[1;32m-> 1867\u001b[1;33m         \u001b[0mself\u001b[0m\u001b[1;33m.\u001b[0m\u001b[0m_open_handles\u001b[0m\u001b[1;33m(\u001b[0m\u001b[0msrc\u001b[0m\u001b[1;33m,\u001b[0m \u001b[0mkwds\u001b[0m\u001b[1;33m)\u001b[0m\u001b[1;33m\u001b[0m\u001b[1;33m\u001b[0m\u001b[0m\n\u001b[0m\u001b[0;32m   1868\u001b[0m         \u001b[1;32massert\u001b[0m \u001b[0mself\u001b[0m\u001b[1;33m.\u001b[0m\u001b[0mhandles\u001b[0m \u001b[1;32mis\u001b[0m \u001b[1;32mnot\u001b[0m \u001b[1;32mNone\u001b[0m\u001b[1;33m\u001b[0m\u001b[1;33m\u001b[0m\u001b[0m\n\u001b[0;32m   1869\u001b[0m         \u001b[1;32mfor\u001b[0m \u001b[0mkey\u001b[0m \u001b[1;32min\u001b[0m \u001b[1;33m(\u001b[0m\u001b[1;34m\"storage_options\"\u001b[0m\u001b[1;33m,\u001b[0m \u001b[1;34m\"encoding\"\u001b[0m\u001b[1;33m,\u001b[0m \u001b[1;34m\"memory_map\"\u001b[0m\u001b[1;33m,\u001b[0m \u001b[1;34m\"compression\"\u001b[0m\u001b[1;33m)\u001b[0m\u001b[1;33m:\u001b[0m\u001b[1;33m\u001b[0m\u001b[1;33m\u001b[0m\u001b[0m\n",
      "\u001b[1;32m~\\anaconda3\\lib\\site-packages\\pandas\\io\\parsers.py\u001b[0m in \u001b[0;36m_open_handles\u001b[1;34m(self, src, kwds)\u001b[0m\n\u001b[0;32m   1360\u001b[0m         \u001b[0mLet\u001b[0m \u001b[0mthe\u001b[0m \u001b[0mreaders\u001b[0m \u001b[0mopen\u001b[0m \u001b[0mIOHanldes\u001b[0m \u001b[0mafter\u001b[0m \u001b[0mthey\u001b[0m \u001b[0mare\u001b[0m \u001b[0mdone\u001b[0m \u001b[1;32mwith\u001b[0m \u001b[0mtheir\u001b[0m \u001b[0mpotential\u001b[0m \u001b[0mraises\u001b[0m\u001b[1;33m.\u001b[0m\u001b[1;33m\u001b[0m\u001b[1;33m\u001b[0m\u001b[0m\n\u001b[0;32m   1361\u001b[0m         \"\"\"\n\u001b[1;32m-> 1362\u001b[1;33m         self.handles = get_handle(\n\u001b[0m\u001b[0;32m   1363\u001b[0m             \u001b[0msrc\u001b[0m\u001b[1;33m,\u001b[0m\u001b[1;33m\u001b[0m\u001b[1;33m\u001b[0m\u001b[0m\n\u001b[0;32m   1364\u001b[0m             \u001b[1;34m\"r\"\u001b[0m\u001b[1;33m,\u001b[0m\u001b[1;33m\u001b[0m\u001b[1;33m\u001b[0m\u001b[0m\n",
      "\u001b[1;32m~\\anaconda3\\lib\\site-packages\\pandas\\io\\common.py\u001b[0m in \u001b[0;36mget_handle\u001b[1;34m(path_or_buf, mode, encoding, compression, memory_map, is_text, errors, storage_options)\u001b[0m\n\u001b[0;32m    606\u001b[0m         \u001b[1;31m# ZIP Compression\u001b[0m\u001b[1;33m\u001b[0m\u001b[1;33m\u001b[0m\u001b[1;33m\u001b[0m\u001b[0m\n\u001b[0;32m    607\u001b[0m         \u001b[1;32melif\u001b[0m \u001b[0mcompression\u001b[0m \u001b[1;33m==\u001b[0m \u001b[1;34m\"zip\"\u001b[0m\u001b[1;33m:\u001b[0m\u001b[1;33m\u001b[0m\u001b[1;33m\u001b[0m\u001b[0m\n\u001b[1;32m--> 608\u001b[1;33m             \u001b[0mhandle\u001b[0m \u001b[1;33m=\u001b[0m \u001b[0m_BytesZipFile\u001b[0m\u001b[1;33m(\u001b[0m\u001b[0mhandle\u001b[0m\u001b[1;33m,\u001b[0m \u001b[0mioargs\u001b[0m\u001b[1;33m.\u001b[0m\u001b[0mmode\u001b[0m\u001b[1;33m,\u001b[0m \u001b[1;33m**\u001b[0m\u001b[0mcompression_args\u001b[0m\u001b[1;33m)\u001b[0m\u001b[1;33m\u001b[0m\u001b[1;33m\u001b[0m\u001b[0m\n\u001b[0m\u001b[0;32m    609\u001b[0m             \u001b[1;32mif\u001b[0m \u001b[0mhandle\u001b[0m\u001b[1;33m.\u001b[0m\u001b[0mmode\u001b[0m \u001b[1;33m==\u001b[0m \u001b[1;34m\"r\"\u001b[0m\u001b[1;33m:\u001b[0m\u001b[1;33m\u001b[0m\u001b[1;33m\u001b[0m\u001b[0m\n\u001b[0;32m    610\u001b[0m                 \u001b[0mhandles\u001b[0m\u001b[1;33m.\u001b[0m\u001b[0mappend\u001b[0m\u001b[1;33m(\u001b[0m\u001b[0mhandle\u001b[0m\u001b[1;33m)\u001b[0m\u001b[1;33m\u001b[0m\u001b[1;33m\u001b[0m\u001b[0m\n",
      "\u001b[1;32m~\\anaconda3\\lib\\site-packages\\pandas\\io\\common.py\u001b[0m in \u001b[0;36m__init__\u001b[1;34m(self, file, mode, archive_name, **kwargs)\u001b[0m\n\u001b[0;32m    718\u001b[0m         \u001b[0mkwargs_zip\u001b[0m\u001b[1;33m.\u001b[0m\u001b[0mupdate\u001b[0m\u001b[1;33m(\u001b[0m\u001b[0mkwargs\u001b[0m\u001b[1;33m)\u001b[0m\u001b[1;33m\u001b[0m\u001b[1;33m\u001b[0m\u001b[0m\n\u001b[0;32m    719\u001b[0m \u001b[1;33m\u001b[0m\u001b[0m\n\u001b[1;32m--> 720\u001b[1;33m         \u001b[0msuper\u001b[0m\u001b[1;33m(\u001b[0m\u001b[1;33m)\u001b[0m\u001b[1;33m.\u001b[0m\u001b[0m__init__\u001b[0m\u001b[1;33m(\u001b[0m\u001b[0mfile\u001b[0m\u001b[1;33m,\u001b[0m \u001b[0mmode\u001b[0m\u001b[1;33m,\u001b[0m \u001b[1;33m**\u001b[0m\u001b[0mkwargs_zip\u001b[0m\u001b[1;33m)\u001b[0m  \u001b[1;31m# type: ignore[arg-type]\u001b[0m\u001b[1;33m\u001b[0m\u001b[1;33m\u001b[0m\u001b[0m\n\u001b[0m\u001b[0;32m    721\u001b[0m \u001b[1;33m\u001b[0m\u001b[0m\n\u001b[0;32m    722\u001b[0m     \u001b[1;32mdef\u001b[0m \u001b[0mwrite\u001b[0m\u001b[1;33m(\u001b[0m\u001b[0mself\u001b[0m\u001b[1;33m,\u001b[0m \u001b[0mdata\u001b[0m\u001b[1;33m)\u001b[0m\u001b[1;33m:\u001b[0m\u001b[1;33m\u001b[0m\u001b[1;33m\u001b[0m\u001b[0m\n",
      "\u001b[1;32m~\\anaconda3\\lib\\zipfile.py\u001b[0m in \u001b[0;36m__init__\u001b[1;34m(self, file, mode, compression, allowZip64, compresslevel, strict_timestamps)\u001b[0m\n\u001b[0;32m   1249\u001b[0m             \u001b[1;32mwhile\u001b[0m \u001b[1;32mTrue\u001b[0m\u001b[1;33m:\u001b[0m\u001b[1;33m\u001b[0m\u001b[1;33m\u001b[0m\u001b[0m\n\u001b[0;32m   1250\u001b[0m                 \u001b[1;32mtry\u001b[0m\u001b[1;33m:\u001b[0m\u001b[1;33m\u001b[0m\u001b[1;33m\u001b[0m\u001b[0m\n\u001b[1;32m-> 1251\u001b[1;33m                     \u001b[0mself\u001b[0m\u001b[1;33m.\u001b[0m\u001b[0mfp\u001b[0m \u001b[1;33m=\u001b[0m \u001b[0mio\u001b[0m\u001b[1;33m.\u001b[0m\u001b[0mopen\u001b[0m\u001b[1;33m(\u001b[0m\u001b[0mfile\u001b[0m\u001b[1;33m,\u001b[0m \u001b[0mfilemode\u001b[0m\u001b[1;33m)\u001b[0m\u001b[1;33m\u001b[0m\u001b[1;33m\u001b[0m\u001b[0m\n\u001b[0m\u001b[0;32m   1252\u001b[0m                 \u001b[1;32mexcept\u001b[0m \u001b[0mOSError\u001b[0m\u001b[1;33m:\u001b[0m\u001b[1;33m\u001b[0m\u001b[1;33m\u001b[0m\u001b[0m\n\u001b[0;32m   1253\u001b[0m                     \u001b[1;32mif\u001b[0m \u001b[0mfilemode\u001b[0m \u001b[1;32min\u001b[0m \u001b[0mmodeDict\u001b[0m\u001b[1;33m:\u001b[0m\u001b[1;33m\u001b[0m\u001b[1;33m\u001b[0m\u001b[0m\n",
      "\u001b[1;31mFileNotFoundError\u001b[0m: [Errno 2] No such file or directory: 'D:/CNPJ/Dados Abertos/EMPRESA/Zip/K3241.K03200Y0.D10710.EMPRECSV.zip'"
     ]
    }
   ],
   "source": [
    "fonte = 'D:/CNPJ/Dados Abertos/EMPRESA/Zip/K3241.K03200Y0.D10710.EMPRECSV.zip'\n",
    "dados = pd.read_csv(fonte, sep=';', encoding='Windows-1252', names=['CNPJ BÁSICO', 'RAZÃO SOCIAL/NOME EMPRESARIAL',\n",
    "                                                                    'NATUREZA JURÍDICA', 'QUALIFICAÇÃO DO RESPONSÁVEL',\n",
    "                                                                   'CAPITAL SOCIAL DA EMPRESA', 'PORTE DA EMPRESA',\n",
    "                                                                   'ENTE FEDERATIVO RESPONSÁVEL'])"
   ]
  },
  {
   "cell_type": "code",
   "execution_count": null,
   "id": "a2501f94",
   "metadata": {},
   "outputs": [],
   "source": [
    "dados.head()"
   ]
  },
  {
   "cell_type": "code",
   "execution_count": null,
   "id": "f01516d2",
   "metadata": {},
   "outputs": [],
   "source": [
    "dados.columns.values"
   ]
  },
  {
   "cell_type": "code",
   "execution_count": null,
   "id": "c2067f69",
   "metadata": {},
   "outputs": [],
   "source": [
    "dados.shape"
   ]
  },
  {
   "cell_type": "code",
   "execution_count": null,
   "id": "f1e2c4cb",
   "metadata": {},
   "outputs": [],
   "source": [
    "dados['ENTE FEDERATIVO RESPONSÁVEL'].value_counts()"
   ]
  },
  {
   "cell_type": "code",
   "execution_count": null,
   "id": "8794eefa",
   "metadata": {},
   "outputs": [],
   "source": [
    "len(dados['ENTE FEDERATIVO RESPONSÁVEL'].unique())"
   ]
  },
  {
   "cell_type": "code",
   "execution_count": null,
   "id": "05d5a590",
   "metadata": {},
   "outputs": [],
   "source": [
    "dados['ENTE FEDERATIVO RESPONSÁVEL'].unique()"
   ]
  },
  {
   "cell_type": "code",
   "execution_count": null,
   "id": "5ce5f305",
   "metadata": {},
   "outputs": [],
   "source": []
  },
  {
   "cell_type": "markdown",
   "id": "1e2bd0b7",
   "metadata": {},
   "source": [
    "## Estabelecimento"
   ]
  },
  {
   "cell_type": "code",
   "execution_count": null,
   "id": "49921c34",
   "metadata": {},
   "outputs": [],
   "source": [
    "fonte_estab = 'D:/CNPJ/Dados Abertos/ESTABELECIMENTO/K3241.K03200Y0.D10710.ESTABELE.zip'\n",
    "dados_estab = pd.read_csv(fonte_estab, sep=';', encoding='LATIN1', \n",
    "                              names=['CNPJ BÁSICO', 'CNPJ ORDEM ', 'CNPJ DV', 'IDENTIFICADOR MATRIZ/FILIAL', 'NOME FANTASIA', \n",
    "                                     'SITUAÇÃO CADASTRAL', 'DATA SITUAÇÃO CADASTRAL', 'MOTIVO SITUAÇÃO CADASTRAL', \n",
    "                                     'NOME DA CIDADE NO EXTERIOR', 'PAIS', 'DATA DE INÍCIO ATIVIDADE', 'CNAE FISCAL PRINCIPAL', \n",
    "                                     'CNAE FISCAL SECUNDÁRIA', 'TIPO DE LOGRADOURO', 'LOGRADOURO', 'NÚMERO', 'COMPLEMENTO', \n",
    "                                     'BAIRRO', 'CEP', 'UF', 'MUNICÍPIO', 'DDD 1', 'TELEFONE 1', 'DDD 2', 'TELEFONE 2', \n",
    "                                     'DDD DO FAX', 'FAX', 'CORREIO ELETRÔNICO', 'SITUAÇÃO ESPECIAL', \n",
    "                                     'DATA DA SITUAÇÃO ESPECIAL'])"
   ]
  },
  {
   "cell_type": "code",
   "execution_count": null,
   "id": "1f2d3bff",
   "metadata": {},
   "outputs": [],
   "source": [
    "dados_estab.head()"
   ]
  },
  {
   "cell_type": "code",
   "execution_count": null,
   "id": "e81aaece",
   "metadata": {},
   "outputs": [],
   "source": []
  },
  {
   "cell_type": "markdown",
   "id": "21903001",
   "metadata": {},
   "source": [
    "## Sócios"
   ]
  },
  {
   "cell_type": "code",
   "execution_count": 7,
   "id": "1ca67945",
   "metadata": {},
   "outputs": [],
   "source": [
    "fonte_socios = 'D:/CNPJ/Dados Abertos/SÓCIO/K3241.K03200Y0.D10710.SOCIOCSV.zip'\n",
    "dados_socios = pd.read_csv(fonte_socios, sep=';', encoding='LATIN1',\n",
    "                              names=['CNPJ BÁSICO', 'IDENTIFICADOR DE SÓCIO', 'NOME DO SÓCIO / RAZÃO SOCIAL', \n",
    "                                     'CNPJ/CPF DO SÓCIO', 'QUALIFICAÇÃO DO SÓCIO', 'DATA DE ENTRADA SOCIEDADE', \n",
    "                                     'PAIS', 'REPRESENTANTE LEGAL', 'NOME DO REPRESENTANTE', \n",
    "                                     'QUALIFICAÇÃO DO REPRESENTANTE LEGAL', 'FAIXA ETÁRIA'])"
   ]
  },
  {
   "cell_type": "code",
   "execution_count": 8,
   "id": "a770ccfe",
   "metadata": {},
   "outputs": [
    {
     "data": {
      "text/html": [
       "<div>\n",
       "<style scoped>\n",
       "    .dataframe tbody tr th:only-of-type {\n",
       "        vertical-align: middle;\n",
       "    }\n",
       "\n",
       "    .dataframe tbody tr th {\n",
       "        vertical-align: top;\n",
       "    }\n",
       "\n",
       "    .dataframe thead th {\n",
       "        text-align: right;\n",
       "    }\n",
       "</style>\n",
       "<table border=\"1\" class=\"dataframe\">\n",
       "  <thead>\n",
       "    <tr style=\"text-align: right;\">\n",
       "      <th></th>\n",
       "      <th>CNPJ BÁSICO</th>\n",
       "      <th>IDENTIFICADOR DE SÓCIO</th>\n",
       "      <th>NOME DO SÓCIO / RAZÃO SOCIAL</th>\n",
       "      <th>CNPJ/CPF DO SÓCIO</th>\n",
       "      <th>QUALIFICAÇÃO DO SÓCIO</th>\n",
       "      <th>DATA DE ENTRADA SOCIEDADE</th>\n",
       "      <th>PAIS</th>\n",
       "      <th>REPRESENTANTE LEGAL</th>\n",
       "      <th>NOME DO REPRESENTANTE</th>\n",
       "      <th>QUALIFICAÇÃO DO REPRESENTANTE LEGAL</th>\n",
       "      <th>FAIXA ETÁRIA</th>\n",
       "    </tr>\n",
       "  </thead>\n",
       "  <tbody>\n",
       "    <tr>\n",
       "      <th>0</th>\n",
       "      <td>17872629</td>\n",
       "      <td>2</td>\n",
       "      <td>KARINA FERREIRA SARGACO</td>\n",
       "      <td>***945998**</td>\n",
       "      <td>65</td>\n",
       "      <td>20130404</td>\n",
       "      <td>NaN</td>\n",
       "      <td>***000000**</td>\n",
       "      <td>NaN</td>\n",
       "      <td>0</td>\n",
       "      <td>4</td>\n",
       "    </tr>\n",
       "    <tr>\n",
       "      <th>1</th>\n",
       "      <td>18331805</td>\n",
       "      <td>2</td>\n",
       "      <td>VICTOR HUGO BORGES SANTOS</td>\n",
       "      <td>***762916**</td>\n",
       "      <td>49</td>\n",
       "      <td>20130619</td>\n",
       "      <td>NaN</td>\n",
       "      <td>***000000**</td>\n",
       "      <td>NaN</td>\n",
       "      <td>0</td>\n",
       "      <td>4</td>\n",
       "    </tr>\n",
       "    <tr>\n",
       "      <th>2</th>\n",
       "      <td>18331805</td>\n",
       "      <td>1</td>\n",
       "      <td>SANTOS PARTICIPACOES E INVESTIMENTOS EIRELI</td>\n",
       "      <td>18055282000190</td>\n",
       "      <td>22</td>\n",
       "      <td>20130619</td>\n",
       "      <td>NaN</td>\n",
       "      <td>***762916**</td>\n",
       "      <td>VICTOR HUGO BORGES SANTOS</td>\n",
       "      <td>5</td>\n",
       "      <td>0</td>\n",
       "    </tr>\n",
       "    <tr>\n",
       "      <th>3</th>\n",
       "      <td>9006201</td>\n",
       "      <td>2</td>\n",
       "      <td>FLAVIO JOSE RAMALHO</td>\n",
       "      <td>***788809**</td>\n",
       "      <td>49</td>\n",
       "      <td>20070629</td>\n",
       "      <td>NaN</td>\n",
       "      <td>***000000**</td>\n",
       "      <td>NaN</td>\n",
       "      <td>0</td>\n",
       "      <td>6</td>\n",
       "    </tr>\n",
       "    <tr>\n",
       "      <th>4</th>\n",
       "      <td>16683249</td>\n",
       "      <td>2</td>\n",
       "      <td>BEVAN LLOYD WILLIAMS</td>\n",
       "      <td>***723891**</td>\n",
       "      <td>49</td>\n",
       "      <td>20190327</td>\n",
       "      <td>NaN</td>\n",
       "      <td>***000000**</td>\n",
       "      <td>NaN</td>\n",
       "      <td>0</td>\n",
       "      <td>4</td>\n",
       "    </tr>\n",
       "  </tbody>\n",
       "</table>\n",
       "</div>"
      ],
      "text/plain": [
       "   CNPJ BÁSICO  IDENTIFICADOR DE SÓCIO  \\\n",
       "0     17872629                       2   \n",
       "1     18331805                       2   \n",
       "2     18331805                       1   \n",
       "3      9006201                       2   \n",
       "4     16683249                       2   \n",
       "\n",
       "                  NOME DO SÓCIO / RAZÃO SOCIAL CNPJ/CPF DO SÓCIO  \\\n",
       "0                      KARINA FERREIRA SARGACO       ***945998**   \n",
       "1                    VICTOR HUGO BORGES SANTOS       ***762916**   \n",
       "2  SANTOS PARTICIPACOES E INVESTIMENTOS EIRELI    18055282000190   \n",
       "3                          FLAVIO JOSE RAMALHO       ***788809**   \n",
       "4                         BEVAN LLOYD WILLIAMS       ***723891**   \n",
       "\n",
       "   QUALIFICAÇÃO DO SÓCIO  DATA DE ENTRADA SOCIEDADE  PAIS REPRESENTANTE LEGAL  \\\n",
       "0                     65                   20130404   NaN         ***000000**   \n",
       "1                     49                   20130619   NaN         ***000000**   \n",
       "2                     22                   20130619   NaN         ***762916**   \n",
       "3                     49                   20070629   NaN         ***000000**   \n",
       "4                     49                   20190327   NaN         ***000000**   \n",
       "\n",
       "       NOME DO REPRESENTANTE  QUALIFICAÇÃO DO REPRESENTANTE LEGAL  \\\n",
       "0                        NaN                                    0   \n",
       "1                        NaN                                    0   \n",
       "2  VICTOR HUGO BORGES SANTOS                                    5   \n",
       "3                        NaN                                    0   \n",
       "4                        NaN                                    0   \n",
       "\n",
       "   FAIXA ETÁRIA  \n",
       "0             4  \n",
       "1             4  \n",
       "2             0  \n",
       "3             6  \n",
       "4             4  "
      ]
     },
     "execution_count": 8,
     "metadata": {},
     "output_type": "execute_result"
    }
   ],
   "source": [
    "dados_socios.head()"
   ]
  },
  {
   "cell_type": "markdown",
   "id": "434089e1",
   "metadata": {},
   "source": [
    "## Dados Acessórios"
   ]
  },
  {
   "cell_type": "markdown",
   "id": "825591ca",
   "metadata": {},
   "source": [
    "### Dados do Simples"
   ]
  },
  {
   "cell_type": "code",
   "execution_count": null,
   "id": "ccaae7aa",
   "metadata": {},
   "outputs": [],
   "source": [
    "fonte_dadossimples = 'D:/CNPJ/Dados Abertos/'"
   ]
  },
  {
   "cell_type": "markdown",
   "id": "55fd939c",
   "metadata": {},
   "source": [
    "### Países"
   ]
  },
  {
   "cell_type": "code",
   "execution_count": 10,
   "id": "be0b8197",
   "metadata": {},
   "outputs": [],
   "source": [
    "fonte_paises = 'D:/CNPJ/Dados Abertos/F.K03200$Z.D10710.PAISCSV.zip'\n",
    "dados_paises = pd.read_csv(fonte_paises, sep=';', encoding='LATIN1', names=['CÓDIGO', 'DESCRIÇÃO'])"
   ]
  },
  {
   "cell_type": "code",
   "execution_count": 11,
   "id": "6ee8eaa0",
   "metadata": {},
   "outputs": [
    {
     "data": {
      "text/html": [
       "<div>\n",
       "<style scoped>\n",
       "    .dataframe tbody tr th:only-of-type {\n",
       "        vertical-align: middle;\n",
       "    }\n",
       "\n",
       "    .dataframe tbody tr th {\n",
       "        vertical-align: top;\n",
       "    }\n",
       "\n",
       "    .dataframe thead th {\n",
       "        text-align: right;\n",
       "    }\n",
       "</style>\n",
       "<table border=\"1\" class=\"dataframe\">\n",
       "  <thead>\n",
       "    <tr style=\"text-align: right;\">\n",
       "      <th></th>\n",
       "      <th>CÓDIGO</th>\n",
       "      <th>DESCRIÇÃO</th>\n",
       "    </tr>\n",
       "  </thead>\n",
       "  <tbody>\n",
       "    <tr>\n",
       "      <th>0</th>\n",
       "      <td>0</td>\n",
       "      <td>COLIS POSTAUX</td>\n",
       "    </tr>\n",
       "    <tr>\n",
       "      <th>1</th>\n",
       "      <td>13</td>\n",
       "      <td>AFEGANISTAO</td>\n",
       "    </tr>\n",
       "    <tr>\n",
       "      <th>2</th>\n",
       "      <td>17</td>\n",
       "      <td>ALBANIA</td>\n",
       "    </tr>\n",
       "    <tr>\n",
       "      <th>3</th>\n",
       "      <td>20</td>\n",
       "      <td>ALBORAN-PEREJIL,ILHAS</td>\n",
       "    </tr>\n",
       "    <tr>\n",
       "      <th>4</th>\n",
       "      <td>23</td>\n",
       "      <td>ALEMANHA</td>\n",
       "    </tr>\n",
       "  </tbody>\n",
       "</table>\n",
       "</div>"
      ],
      "text/plain": [
       "   CÓDIGO              DESCRIÇÃO\n",
       "0       0          COLIS POSTAUX\n",
       "1      13            AFEGANISTAO\n",
       "2      17                ALBANIA\n",
       "3      20  ALBORAN-PEREJIL,ILHAS\n",
       "4      23               ALEMANHA"
      ]
     },
     "execution_count": 11,
     "metadata": {},
     "output_type": "execute_result"
    }
   ],
   "source": [
    "dados_paises.head()"
   ]
  },
  {
   "cell_type": "code",
   "execution_count": 17,
   "id": "22a0cbbc",
   "metadata": {},
   "outputs": [],
   "source": []
  },
  {
   "cell_type": "markdown",
   "id": "39d54524",
   "metadata": {},
   "source": [
    "### Municípios"
   ]
  },
  {
   "cell_type": "code",
   "execution_count": 12,
   "id": "8ae82221",
   "metadata": {},
   "outputs": [],
   "source": [
    "fonte_municipios = 'D:/CNPJ/Dados Abertos/F.K03200$Z.D10710.MUNICCSV.zip'\n",
    "dados_municipios = pd.read_csv(fonte_municipios, sep=';', encoding='LATIN1', names=['CÓDIGO', 'DESCRIÇÃO'])"
   ]
  },
  {
   "cell_type": "code",
   "execution_count": 13,
   "id": "a5694ee1",
   "metadata": {},
   "outputs": [
    {
     "data": {
      "text/html": [
       "<div>\n",
       "<style scoped>\n",
       "    .dataframe tbody tr th:only-of-type {\n",
       "        vertical-align: middle;\n",
       "    }\n",
       "\n",
       "    .dataframe tbody tr th {\n",
       "        vertical-align: top;\n",
       "    }\n",
       "\n",
       "    .dataframe thead th {\n",
       "        text-align: right;\n",
       "    }\n",
       "</style>\n",
       "<table border=\"1\" class=\"dataframe\">\n",
       "  <thead>\n",
       "    <tr style=\"text-align: right;\">\n",
       "      <th></th>\n",
       "      <th>CÓDIGO</th>\n",
       "      <th>DESCRIÇÃO</th>\n",
       "    </tr>\n",
       "  </thead>\n",
       "  <tbody>\n",
       "    <tr>\n",
       "      <th>0</th>\n",
       "      <td>1</td>\n",
       "      <td>GUAJARA-MIRIM</td>\n",
       "    </tr>\n",
       "    <tr>\n",
       "      <th>1</th>\n",
       "      <td>2</td>\n",
       "      <td>ALTO ALEGRE DOS PARECIS</td>\n",
       "    </tr>\n",
       "    <tr>\n",
       "      <th>2</th>\n",
       "      <td>3</td>\n",
       "      <td>PORTO VELHO</td>\n",
       "    </tr>\n",
       "    <tr>\n",
       "      <th>3</th>\n",
       "      <td>4</td>\n",
       "      <td>BURITIS</td>\n",
       "    </tr>\n",
       "    <tr>\n",
       "      <th>4</th>\n",
       "      <td>5</td>\n",
       "      <td>JI-PARANA</td>\n",
       "    </tr>\n",
       "  </tbody>\n",
       "</table>\n",
       "</div>"
      ],
      "text/plain": [
       "   CÓDIGO                DESCRIÇÃO\n",
       "0       1            GUAJARA-MIRIM\n",
       "1       2  ALTO ALEGRE DOS PARECIS\n",
       "2       3              PORTO VELHO\n",
       "3       4                  BURITIS\n",
       "4       5                JI-PARANA"
      ]
     },
     "execution_count": 13,
     "metadata": {},
     "output_type": "execute_result"
    }
   ],
   "source": [
    "dados_municipios.head()"
   ]
  },
  {
   "cell_type": "code",
   "execution_count": null,
   "id": "dbd5a9ee",
   "metadata": {},
   "outputs": [],
   "source": []
  },
  {
   "cell_type": "markdown",
   "id": "fb433224",
   "metadata": {},
   "source": [
    "### Qualificação dos Sócios"
   ]
  },
  {
   "cell_type": "code",
   "execution_count": 14,
   "id": "06c08cc5",
   "metadata": {},
   "outputs": [],
   "source": [
    "fonte_qualificacaosocios = 'D:/CNPJ/Dados Abertos/F.K03200$Z.D10710.QUALSCSV.zip'\n",
    "dados_qualificacaosocios = pd.read_csv(fonte_qualificacaosocios, sep=';', encoding='LATIN1', names=['CÓDIGO', 'DESCRIÇÃO'])"
   ]
  },
  {
   "cell_type": "code",
   "execution_count": 15,
   "id": "8297bc1e",
   "metadata": {},
   "outputs": [
    {
     "data": {
      "text/html": [
       "<div>\n",
       "<style scoped>\n",
       "    .dataframe tbody tr th:only-of-type {\n",
       "        vertical-align: middle;\n",
       "    }\n",
       "\n",
       "    .dataframe tbody tr th {\n",
       "        vertical-align: top;\n",
       "    }\n",
       "\n",
       "    .dataframe thead th {\n",
       "        text-align: right;\n",
       "    }\n",
       "</style>\n",
       "<table border=\"1\" class=\"dataframe\">\n",
       "  <thead>\n",
       "    <tr style=\"text-align: right;\">\n",
       "      <th></th>\n",
       "      <th>CÓDIGO</th>\n",
       "      <th>DESCRIÇÃO</th>\n",
       "    </tr>\n",
       "  </thead>\n",
       "  <tbody>\n",
       "    <tr>\n",
       "      <th>0</th>\n",
       "      <td>0</td>\n",
       "      <td>Não informada</td>\n",
       "    </tr>\n",
       "    <tr>\n",
       "      <th>1</th>\n",
       "      <td>5</td>\n",
       "      <td>Administrador</td>\n",
       "    </tr>\n",
       "    <tr>\n",
       "      <th>2</th>\n",
       "      <td>8</td>\n",
       "      <td>Conselheiro de Administração</td>\n",
       "    </tr>\n",
       "    <tr>\n",
       "      <th>3</th>\n",
       "      <td>9</td>\n",
       "      <td>Curador</td>\n",
       "    </tr>\n",
       "    <tr>\n",
       "      <th>4</th>\n",
       "      <td>10</td>\n",
       "      <td>Diretor</td>\n",
       "    </tr>\n",
       "  </tbody>\n",
       "</table>\n",
       "</div>"
      ],
      "text/plain": [
       "   CÓDIGO                     DESCRIÇÃO\n",
       "0       0                 Não informada\n",
       "1       5                 Administrador\n",
       "2       8  Conselheiro de Administração\n",
       "3       9                       Curador\n",
       "4      10                       Diretor"
      ]
     },
     "execution_count": 15,
     "metadata": {},
     "output_type": "execute_result"
    }
   ],
   "source": [
    "dados_qualificacaosocios.head()"
   ]
  },
  {
   "cell_type": "code",
   "execution_count": null,
   "id": "bb02d133",
   "metadata": {},
   "outputs": [],
   "source": []
  },
  {
   "cell_type": "markdown",
   "id": "58ffbc14",
   "metadata": {},
   "source": [
    "### Naturezas Jurídicas"
   ]
  },
  {
   "cell_type": "code",
   "execution_count": 18,
   "id": "b3a47cbe",
   "metadata": {},
   "outputs": [],
   "source": [
    "fonte_naturezasjuridicas = 'D:/CNPJ/Dados Abertos/F.K03200$Z.D10710.NATJUCSV.zip'\n",
    "dados_naturezasjuridicas = pd.read_csv(fonte_naturezasjuridicas, sep=';', encoding='LATIN1', names=['CÓDIGO', 'DESCRIÇÃO'])"
   ]
  },
  {
   "cell_type": "code",
   "execution_count": 19,
   "id": "db5f7dae",
   "metadata": {},
   "outputs": [
    {
     "data": {
      "text/html": [
       "<div>\n",
       "<style scoped>\n",
       "    .dataframe tbody tr th:only-of-type {\n",
       "        vertical-align: middle;\n",
       "    }\n",
       "\n",
       "    .dataframe tbody tr th {\n",
       "        vertical-align: top;\n",
       "    }\n",
       "\n",
       "    .dataframe thead th {\n",
       "        text-align: right;\n",
       "    }\n",
       "</style>\n",
       "<table border=\"1\" class=\"dataframe\">\n",
       "  <thead>\n",
       "    <tr style=\"text-align: right;\">\n",
       "      <th></th>\n",
       "      <th>CÓDIGO</th>\n",
       "      <th>DESCRIÇÃO</th>\n",
       "    </tr>\n",
       "  </thead>\n",
       "  <tbody>\n",
       "    <tr>\n",
       "      <th>0</th>\n",
       "      <td>0</td>\n",
       "      <td>Natureza Jurídica não informada</td>\n",
       "    </tr>\n",
       "    <tr>\n",
       "      <th>1</th>\n",
       "      <td>1015</td>\n",
       "      <td>Órgão Público do Poder Executivo Federal</td>\n",
       "    </tr>\n",
       "    <tr>\n",
       "      <th>2</th>\n",
       "      <td>1023</td>\n",
       "      <td>Órgão Público do Poder Executivo Estadual ou d...</td>\n",
       "    </tr>\n",
       "    <tr>\n",
       "      <th>3</th>\n",
       "      <td>1031</td>\n",
       "      <td>Órgão Público do Poder Executivo Municipal</td>\n",
       "    </tr>\n",
       "    <tr>\n",
       "      <th>4</th>\n",
       "      <td>1040</td>\n",
       "      <td>Órgão Público do Poder Legislativo Federal</td>\n",
       "    </tr>\n",
       "  </tbody>\n",
       "</table>\n",
       "</div>"
      ],
      "text/plain": [
       "   CÓDIGO                                          DESCRIÇÃO\n",
       "0       0                    Natureza Jurídica não informada\n",
       "1    1015           Órgão Público do Poder Executivo Federal\n",
       "2    1023  Órgão Público do Poder Executivo Estadual ou d...\n",
       "3    1031         Órgão Público do Poder Executivo Municipal\n",
       "4    1040         Órgão Público do Poder Legislativo Federal"
      ]
     },
     "execution_count": 19,
     "metadata": {},
     "output_type": "execute_result"
    }
   ],
   "source": [
    "dados_naturezasjuridicas.head()"
   ]
  },
  {
   "cell_type": "code",
   "execution_count": null,
   "id": "4a48a578",
   "metadata": {},
   "outputs": [],
   "source": []
  },
  {
   "cell_type": "markdown",
   "id": "ee013855",
   "metadata": {},
   "source": [
    "### CNAEs"
   ]
  },
  {
   "cell_type": "code",
   "execution_count": 20,
   "id": "f520ad3d",
   "metadata": {},
   "outputs": [],
   "source": [
    "fonte_cnaes = 'D:/CNPJ/Dados Abertos/F.K03200$Z.D10710.CNAECSV.zip'\n",
    "dados_cnaes = pd.read_csv(fonte_cnaes, sep=';', encoding='LATIN1', names=['CÓDIGOS', 'DESCRIÇÃO'])"
   ]
  },
  {
   "cell_type": "code",
   "execution_count": 21,
   "id": "4130c485",
   "metadata": {},
   "outputs": [
    {
     "data": {
      "text/html": [
       "<div>\n",
       "<style scoped>\n",
       "    .dataframe tbody tr th:only-of-type {\n",
       "        vertical-align: middle;\n",
       "    }\n",
       "\n",
       "    .dataframe tbody tr th {\n",
       "        vertical-align: top;\n",
       "    }\n",
       "\n",
       "    .dataframe thead th {\n",
       "        text-align: right;\n",
       "    }\n",
       "</style>\n",
       "<table border=\"1\" class=\"dataframe\">\n",
       "  <thead>\n",
       "    <tr style=\"text-align: right;\">\n",
       "      <th></th>\n",
       "      <th>CÓDIGOS</th>\n",
       "      <th>DESCRIÇÃO</th>\n",
       "    </tr>\n",
       "  </thead>\n",
       "  <tbody>\n",
       "    <tr>\n",
       "      <th>0</th>\n",
       "      <td>111301</td>\n",
       "      <td>Cultivo de arroz</td>\n",
       "    </tr>\n",
       "    <tr>\n",
       "      <th>1</th>\n",
       "      <td>111302</td>\n",
       "      <td>Cultivo de milho</td>\n",
       "    </tr>\n",
       "    <tr>\n",
       "      <th>2</th>\n",
       "      <td>111303</td>\n",
       "      <td>Cultivo de trigo</td>\n",
       "    </tr>\n",
       "    <tr>\n",
       "      <th>3</th>\n",
       "      <td>111399</td>\n",
       "      <td>Cultivo de outros cereais não especificados an...</td>\n",
       "    </tr>\n",
       "    <tr>\n",
       "      <th>4</th>\n",
       "      <td>112101</td>\n",
       "      <td>Cultivo de algodão herbáceo</td>\n",
       "    </tr>\n",
       "  </tbody>\n",
       "</table>\n",
       "</div>"
      ],
      "text/plain": [
       "   CÓDIGOS                                          DESCRIÇÃO\n",
       "0   111301                                   Cultivo de arroz\n",
       "1   111302                                   Cultivo de milho\n",
       "2   111303                                   Cultivo de trigo\n",
       "3   111399  Cultivo de outros cereais não especificados an...\n",
       "4   112101                        Cultivo de algodão herbáceo"
      ]
     },
     "execution_count": 21,
     "metadata": {},
     "output_type": "execute_result"
    }
   ],
   "source": [
    "dados_cnaes.head()"
   ]
  },
  {
   "cell_type": "code",
   "execution_count": null,
   "id": "93b87948",
   "metadata": {},
   "outputs": [],
   "source": []
  }
 ],
 "metadata": {
  "kernelspec": {
   "display_name": "Python 3",
   "language": "python",
   "name": "python3"
  },
  "language_info": {
   "codemirror_mode": {
    "name": "ipython",
    "version": 3
   },
   "file_extension": ".py",
   "mimetype": "text/x-python",
   "name": "python",
   "nbconvert_exporter": "python",
   "pygments_lexer": "ipython3",
   "version": "3.8.8"
  }
 },
 "nbformat": 4,
 "nbformat_minor": 5
}
